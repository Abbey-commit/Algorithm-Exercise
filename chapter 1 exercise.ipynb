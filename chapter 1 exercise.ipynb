{
 "cells": [
  {
   "cell_type": "markdown",
   "id": "6fca58d5-76ad-4e26-950f-2608100dd89e",
   "metadata": {},
   "source": [
    "# Generate password of any length that has at least one upper case letter, lower case letter, one digit, and a character type"
   ]
  },
  {
   "cell_type": "markdown",
   "id": "c20fdb60-eb6f-470f-acef-7e5bdc12bd67",
   "metadata": {},
   "source": [
    "The algorithm is broken down below:\n",
    "1. the password length is n (any number)\n",
    "2. it must have at least one upper case\n",
    "3. one lower case\n",
    "4. one digit number\n",
    "5. one punctuation mark\n",
    "6. create as empty list\n",
    "7. process them as string\n",
    "8. shuffle them\n",
    "9. and join them together "
   ]
  },
  {
   "cell_type": "code",
   "execution_count": 5,
   "id": "7264d630-4d2f-48d3-a238-0174a0ae5ec8",
   "metadata": {},
   "outputs": [],
   "source": [
    "import random\n",
    "import string\n",
    "\n",
    "def generate_password(n):\n",
    "    # mase sure that they include all the character types, including at least both upper and lower case  letters each and a digit as well as puctuation\n",
    "    assert (n >= 4)\n",
    "\n",
    "    password = []\n",
    "    password.append(random.choice(string.ascii_uppercase))\n",
    "    password.append(random.choice(string.ascii_lowercase))\n",
    "    password.append(random.choice(string.digits))\n",
    "    password.append(random.choice(string.punctuation))\n",
    "\n",
    "    for i in range (n- 4):\n",
    "        random_choice = random.choice([0,1,2,3])\n",
    "        if random_choice == 0:\n",
    "            password.append(random.choice(string.ascii_uppercase))\n",
    "        elif random_choice == 1:\n",
    "            password.append(random.choice(string.ascii_lowercase))\n",
    "        elif random_choice == 2:\n",
    "            password.append(random.choice(string.digits))\n",
    "        else:\n",
    "            password.append(random.choice(string.punctuation))\n",
    "    random.shuffle(password)\n",
    "    return ''.join(password)"
   ]
  },
  {
   "cell_type": "code",
   "execution_count": 6,
   "id": "d261e08b-e613-4b99-9daf-1cf91bace6ce",
   "metadata": {},
   "outputs": [
    {
     "data": {
      "text/plain": [
       "'Sy5R6B7wx6<V8:Q5SzANH6Xt6u5,XV5813$j(;:.'"
      ]
     },
     "execution_count": 6,
     "metadata": {},
     "output_type": "execute_result"
    }
   ],
   "source": [
    "# Apply the function\n",
    "generate_password(40) # put any figure inside the bracket"
   ]
  },
  {
   "cell_type": "markdown",
   "id": "d91d1494-addb-4406-a787-aad7dd88d65b",
   "metadata": {},
   "source": [
    "# 2. Check overlaping between start and end from a list of time"
   ]
  },
  {
   "cell_type": "markdown",
   "id": "f33dfbe6-61ed-436a-81d8-562121cd0bad",
   "metadata": {},
   "source": [
    "Algorithm: Provide the algorithm below:\n",
    "1. Create list of events\n",
    "2. Check wether has overlaping or not\n",
    "3. store start and end time\n",
    "4. sort the list by start time\n",
    "5. compare the the end to the preceeding start time for overlaping"
   ]
  },
  {
   "cell_type": "code",
   "execution_count": 7,
   "id": "8eac9f0e-5435-4146-bfd8-dbee7736499b",
   "metadata": {},
   "outputs": [],
   "source": [
    "def has_overlap(events):\n",
    "    # sort by start time\n",
    "    events.sort(key=lambda x: x['start'])\n",
    "    for i in range(len(events) - 1):\n",
    "        if events[i]['end'] > events[i+1]['start']:\n",
    "            return True\n",
    "        return True\n",
    "\n",
    "\n",
    "events = [\n",
    "    {'start time': 4, 'end time': 7}, # end time\n",
    "    {'start time': 6, 'end time': 11}, # start time\n",
    "    {'start time': 10, 'end time': 12}\n",
    "]"
   ]
  },
  {
   "cell_type": "code",
   "execution_count": 9,
   "id": "cb694adf-6900-4234-95b3-0daed37e8c62",
   "metadata": {},
   "outputs": [
    {
     "data": {
      "text/plain": [
       "True"
      ]
     },
     "execution_count": 9,
     "metadata": {},
     "output_type": "execute_result"
    }
   ],
   "source": [
    "has_overlap(events) # note the first two line: 7 and 6"
   ]
  },
  {
   "cell_type": "markdown",
   "id": "9b0e5ff0-ab52-4479-a4d5-ce83a1552601",
   "metadata": {},
   "source": [
    "# Build a Pyramid"
   ]
  },
  {
   "cell_type": "markdown",
   "id": "454a3be8-dff5-482f-9eb2-2c1d58e9237d",
   "metadata": {},
   "source": [
    "Algorithm:\n",
    "1. Run through a number of levels\n",
    "2. create space number by the minusing level from number of level\n",
    "3. determine the number of asterick and add for each line\n",
    "4. concatenate both space and asterick together"
   ]
  },
  {
   "cell_type": "code",
   "execution_count": 11,
   "id": "47322dc5-2232-4355-ad62-a9390d3e7d19",
   "metadata": {},
   "outputs": [
    {
     "name": "stdout",
     "output_type": "stream",
     "text": [
      "  *\n",
      " ***\n",
      "*****\n"
     ]
    }
   ],
   "source": [
    "def build_pyramid(n):\n",
    "    # Loop through the number of lines\n",
    "    for i in range(1, n + 1):\n",
    "        space = ' ' * (n - i)\n",
    "        asterick = \"*\" * (2 * i - 1)\n",
    "        print(space +  asterick)\n",
    "\n",
    "build_pyramid(3)"
   ]
  },
  {
   "cell_type": "markdown",
   "id": "c5a6dd20-2bf3-4022-a005-568cbdac77f9",
   "metadata": {},
   "source": [
    "# Text Compression Algorithm\n",
    "1. Create a string\n",
    "2. Iterate over the string\n",
    "3. Keep track of the character\n",
    "4. Check the previous with current character\n",
    "5. Add previous character to the sting compressed and count if they are different\n",
    "6. Reset the count"
   ]
  },
  {
   "cell_type": "code",
   "execution_count": 63,
   "id": "fe90ad8f-2e74-4319-a9f1-da4e99fc93f1",
   "metadata": {},
   "outputs": [],
   "source": [
    "def compressed_text(txt):\n",
    "    compressed = ''\n",
    "    count = 1\n",
    "\n",
    "    for i in range(1, len(txt)):\n",
    "        if txt[i] == txt[i - 1] :\n",
    "            count += 1\n",
    "\n",
    "        else:\n",
    "            compressed += txt[i-1] + str(count)\n",
    "            count = 1\n",
    "\n",
    "    compressed += txt[-1] + str(count)\n",
    "    return compressed"
   ]
  },
  {
   "cell_type": "code",
   "execution_count": 64,
   "id": "f2a01448-1e5c-4f28-b674-ba73950c898f",
   "metadata": {},
   "outputs": [
    {
     "data": {
      "text/plain": [
       "'a3i3t1e1s1'"
      ]
     },
     "execution_count": 64,
     "metadata": {},
     "output_type": "execute_result"
    }
   ],
   "source": [
    "text = 'aaaiiites'\n",
    "\n",
    "compressed_text(text)"
   ]
  }
 ],
 "metadata": {
  "kernelspec": {
   "display_name": "Python 3 (ipykernel)",
   "language": "python",
   "name": "python3"
  },
  "language_info": {
   "codemirror_mode": {
    "name": "ipython",
    "version": 3
   },
   "file_extension": ".py",
   "mimetype": "text/x-python",
   "name": "python",
   "nbconvert_exporter": "python",
   "pygments_lexer": "ipython3",
   "version": "3.12.7"
  }
 },
 "nbformat": 4,
 "nbformat_minor": 5
}
