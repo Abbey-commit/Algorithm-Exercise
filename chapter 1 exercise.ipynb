{
 "cells": [
  {
   "cell_type": "markdown",
   "id": "6fca58d5-76ad-4e26-950f-2608100dd89e",
   "metadata": {},
   "source": [
    "# Generate password of any length that has at least one upper case letter, lower case letter, one digit, and a character type"
   ]
  },
  {
   "cell_type": "markdown",
   "id": "c20fdb60-eb6f-470f-acef-7e5bdc12bd67",
   "metadata": {},
   "source": [
    "The algorithm is broken down below:\n",
    "1. the password length is n (any number)\n",
    "2. it must have at least one upper case\n",
    "3. one lower case\n",
    "4. one digit number\n",
    "5. one punctuation mark\n",
    "6. create as empty list\n",
    "7. process them as string\n",
    "8. shuffle them\n",
    "9. and join them together "
   ]
  },
  {
   "cell_type": "code",
   "execution_count": 5,
   "id": "7264d630-4d2f-48d3-a238-0174a0ae5ec8",
   "metadata": {},
   "outputs": [],
   "source": [
    "import random\n",
    "import string\n",
    "\n",
    "def generate_password(n):\n",
    "    # mase sure that they include all the character types, including at least both upper and lower case  letters each and a digit as well as puctuation\n",
    "    assert (n >= 4)\n",
    "\n",
    "    password = []\n",
    "    password.append(random.choice(string.ascii_uppercase))\n",
    "    password.append(random.choice(string.ascii_lowercase))\n",
    "    password.append(random.choice(string.digits))\n",
    "    password.append(random.choice(string.punctuation))\n",
    "\n",
    "    for i in range (n- 4):\n",
    "        random_choice = random.choice([0,1,2,3])\n",
    "        if random_choice == 0:\n",
    "            password.append(random.choice(string.ascii_uppercase))\n",
    "        elif random_choice == 1:\n",
    "            password.append(random.choice(string.ascii_lowercase))\n",
    "        elif random_choice == 2:\n",
    "            password.append(random.choice(string.digits))\n",
    "        else:\n",
    "            password.append(random.choice(string.punctuation))\n",
    "    random.shuffle(password)\n",
    "    return ''.join(password)"
   ]
  },
  {
   "cell_type": "code",
   "execution_count": 6,
   "id": "d261e08b-e613-4b99-9daf-1cf91bace6ce",
   "metadata": {},
   "outputs": [
    {
     "data": {
      "text/plain": [
       "'Sy5R6B7wx6<V8:Q5SzANH6Xt6u5,XV5813$j(;:.'"
      ]
     },
     "execution_count": 6,
     "metadata": {},
     "output_type": "execute_result"
    }
   ],
   "source": [
    "# Apply the function\n",
    "generate_password(40) # put any figure inside the bracket"
   ]
  },
  {
   "cell_type": "code",
   "execution_count": null,
   "id": "10b38ad4-6712-4883-8f67-72a3b57e3bc5",
   "metadata": {},
   "outputs": [],
   "source": []
  }
 ],
 "metadata": {
  "kernelspec": {
   "display_name": "Python 3 (ipykernel)",
   "language": "python",
   "name": "python3"
  },
  "language_info": {
   "codemirror_mode": {
    "name": "ipython",
    "version": 3
   },
   "file_extension": ".py",
   "mimetype": "text/x-python",
   "name": "python",
   "nbconvert_exporter": "python",
   "pygments_lexer": "ipython3",
   "version": "3.12.7"
  }
 },
 "nbformat": 4,
 "nbformat_minor": 5
}
